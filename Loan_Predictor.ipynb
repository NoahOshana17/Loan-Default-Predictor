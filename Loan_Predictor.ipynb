{
  "nbformat": 4,
  "nbformat_minor": 5,
  "metadata": {
    "kernelspec": {
      "display_name": "Python 3 (ipykernel)",
      "language": "python",
      "name": "python3"
    },
    "language_info": {
      "codemirror_mode": {
        "name": "ipython",
        "version": 3
      },
      "file_extension": ".py",
      "mimetype": "text/x-python",
      "name": "python",
      "nbconvert_exporter": "python",
      "pygments_lexer": "ipython3",
      "version": "3.9.7"
    },
    "colab": {
      "provenance": [],
      "collapsed_sections": [
        "Q9ejFUnkR2yQ",
        "uHROTkFDGykS",
        "w5MqTosVHtk1",
        "_sgVU6VDIVGg",
        "_n6VJ4ELJ9m2",
        "u0dTHIaCLUEq",
        "v6IXyh-dMJsb",
        "9dM741u9ZzGj"
      ],
      "include_colab_link": true
    }
  },
  "cells": [
    {
      "cell_type": "markdown",
      "metadata": {
        "id": "view-in-github",
        "colab_type": "text"
      },
      "source": [
        "<a href=\"https://colab.research.google.com/github/NoahOshana17/Loan-Default-Predictor/blob/main/Loan_Predictor.ipynb\" target=\"_parent\"><img src=\"https://colab.research.google.com/assets/colab-badge.svg\" alt=\"Open In Colab\"/></a>"
      ]
    },
    {
      "cell_type": "markdown",
      "source": [
        "# 1. Logistic Regression"
      ],
      "metadata": {
        "id": "pXj1s6JZiKh6"
      },
      "id": "pXj1s6JZiKh6"
    },
    {
      "cell_type": "code",
      "metadata": {
        "id": "f13d19e4"
      },
      "source": [
        "!pip install pandas"
      ],
      "id": "f13d19e4",
      "execution_count": null,
      "outputs": []
    },
    {
      "cell_type": "code",
      "metadata": {
        "id": "7a2e3070"
      },
      "source": [
        "!pip install -U scikit-learn"
      ],
      "id": "7a2e3070",
      "execution_count": null,
      "outputs": []
    },
    {
      "cell_type": "markdown",
      "metadata": {
        "id": "6485ea93"
      },
      "source": [
        "## **Dependencies**"
      ],
      "id": "6485ea93"
    },
    {
      "cell_type": "code",
      "metadata": {
        "id": "11a952c4"
      },
      "source": [
        "import pandas as pd\n",
        "import math\n",
        "from matplotlib import pyplot as plt\n",
        "import seaborn as sns\n",
        "from statistics import mode\n",
        "from sklearn.model_selection import train_test_split\n",
        "from sklearn.linear_model import LogisticRegression\n",
        "from sklearn.metrics import accuracy_score\n",
        "import numpy as np"
      ],
      "id": "11a952c4",
      "execution_count": null,
      "outputs": []
    },
    {
      "cell_type": "markdown",
      "metadata": {
        "id": "08d6a38a"
      },
      "source": [
        "## **Setup Dataset**"
      ],
      "id": "08d6a38a"
    },
    {
      "cell_type": "code",
      "metadata": {
        "scrolled": true,
        "id": "a698116c"
      },
      "source": [
        "train_ds_original = pd.read_csv('/content/sample_data/loan_predictor_train.csv')\n",
        "test_ds_original = pd.read_csv('/content/sample_data/loan_predictor_test.csv')"
      ],
      "id": "a698116c",
      "execution_count": null,
      "outputs": []
    },
    {
      "cell_type": "code",
      "source": [
        "train_ds = train_ds_original\n",
        "test_ds = test_ds_original"
      ],
      "metadata": {
        "id": "_ztgoBORgTVt"
      },
      "id": "_ztgoBORgTVt",
      "execution_count": null,
      "outputs": []
    },
    {
      "cell_type": "code",
      "source": [
        "submission = pd.read_csv('/content/sample_data/submission.csv')"
      ],
      "metadata": {
        "id": "X8PyutjgfJ1j"
      },
      "id": "X8PyutjgfJ1j",
      "execution_count": null,
      "outputs": []
    },
    {
      "cell_type": "markdown",
      "metadata": {
        "id": "N74rkPP7CyFb"
      },
      "source": [
        "## **View Dataset**"
      ],
      "id": "N74rkPP7CyFb"
    },
    {
      "cell_type": "code",
      "metadata": {
        "id": "a2c6b76e"
      },
      "source": [
        "train_ds"
      ],
      "id": "a2c6b76e",
      "execution_count": null,
      "outputs": []
    },
    {
      "cell_type": "code",
      "source": [
        "train_ds.dtypes"
      ],
      "metadata": {
        "id": "hFYYm85EaraD"
      },
      "id": "hFYYm85EaraD",
      "execution_count": null,
      "outputs": []
    },
    {
      "cell_type": "code",
      "source": [
        "test_ds.head(15)"
      ],
      "metadata": {
        "id": "B4RCS1fxPwJM"
      },
      "id": "B4RCS1fxPwJM",
      "execution_count": null,
      "outputs": []
    },
    {
      "cell_type": "code",
      "source": [
        "test_ds.dtypes"
      ],
      "metadata": {
        "id": "6AsRrlqsbEZ2"
      },
      "id": "6AsRrlqsbEZ2",
      "execution_count": null,
      "outputs": []
    },
    {
      "cell_type": "code",
      "source": [
        "list(train_ds.columns)"
      ],
      "metadata": {
        "id": "cDsEtlT6uHV8"
      },
      "id": "cDsEtlT6uHV8",
      "execution_count": null,
      "outputs": []
    },
    {
      "cell_type": "code",
      "source": [
        "list(test_ds.columns)"
      ],
      "metadata": {
        "id": "vV7rvSrzuNOi"
      },
      "id": "vV7rvSrzuNOi",
      "execution_count": null,
      "outputs": []
    },
    {
      "cell_type": "markdown",
      "metadata": {
        "id": "Q9ejFUnkR2yQ"
      },
      "source": [
        "## **Viewing Target Variable**"
      ],
      "id": "Q9ejFUnkR2yQ"
    },
    {
      "cell_type": "code",
      "metadata": {
        "id": "_GQes3i2R72e"
      },
      "source": [
        "train_ds_original['Loan_Status'].value_counts(normalize=True).plot.bar(figsize=(20,10), title='Loan Status')"
      ],
      "id": "_GQes3i2R72e",
      "execution_count": null,
      "outputs": []
    },
    {
      "cell_type": "markdown",
      "metadata": {
        "id": "mRKMpAJBDkJN"
      },
      "source": [
        "## **Viewing Independent Variabels Separately**"
      ],
      "id": "mRKMpAJBDkJN"
    },
    {
      "cell_type": "markdown",
      "metadata": {
        "id": "uHROTkFDGykS"
      },
      "source": [
        "### Gender"
      ],
      "id": "uHROTkFDGykS"
    },
    {
      "cell_type": "code",
      "metadata": {
        "id": "lSWcFcphDs3Q"
      },
      "source": [
        "train_ds['Gender'].value_counts(normalize=True).plot.bar(figsize=(20,10), title='Gender')"
      ],
      "id": "lSWcFcphDs3Q",
      "execution_count": null,
      "outputs": []
    },
    {
      "cell_type": "markdown",
      "metadata": {
        "id": "w5MqTosVHtk1"
      },
      "source": [
        "### Married"
      ],
      "id": "w5MqTosVHtk1"
    },
    {
      "cell_type": "code",
      "metadata": {
        "id": "Vd9W94WZH2YF"
      },
      "source": [
        "train_ds['Married'].value_counts(normalize=True).plot.bar(figsize=(20,10), title='Married')"
      ],
      "id": "Vd9W94WZH2YF",
      "execution_count": null,
      "outputs": []
    },
    {
      "cell_type": "markdown",
      "metadata": {
        "id": "_sgVU6VDIVGg"
      },
      "source": [
        "### Dependents"
      ],
      "id": "_sgVU6VDIVGg"
    },
    {
      "cell_type": "code",
      "metadata": {
        "id": "so__Cg1wIXO6"
      },
      "source": [
        "train_ds['Dependents'].value_counts(normalize=True).plot.bar(figsize=(20,10), title='Dependents')"
      ],
      "id": "so__Cg1wIXO6",
      "execution_count": null,
      "outputs": []
    },
    {
      "cell_type": "markdown",
      "metadata": {
        "id": "_n6VJ4ELJ9m2"
      },
      "source": [
        "### Education"
      ],
      "id": "_n6VJ4ELJ9m2"
    },
    {
      "cell_type": "code",
      "metadata": {
        "id": "WNYj-qmFJ_TO"
      },
      "source": [
        "train_ds['Education'].value_counts(normalize=True).plot.bar(figsize=(20,10), title='Education')"
      ],
      "id": "WNYj-qmFJ_TO",
      "execution_count": null,
      "outputs": []
    },
    {
      "cell_type": "markdown",
      "metadata": {
        "id": "u0dTHIaCLUEq"
      },
      "source": [
        "### Self-Employed"
      ],
      "id": "u0dTHIaCLUEq"
    },
    {
      "cell_type": "code",
      "metadata": {
        "id": "kZHOINy_LWcy"
      },
      "source": [
        "train_ds['Self_Employed'].value_counts(normalize=True).plot.bar(figsize=(20,10), title='Self-Employed')"
      ],
      "id": "kZHOINy_LWcy",
      "execution_count": null,
      "outputs": []
    },
    {
      "cell_type": "markdown",
      "metadata": {
        "id": "v6IXyh-dMJsb"
      },
      "source": [
        "### Income"
      ],
      "id": "v6IXyh-dMJsb"
    },
    {
      "cell_type": "code",
      "metadata": {
        "id": "wRSCWW2UMLeP"
      },
      "source": [
        "sns.displot(train_ds['ApplicantIncome'])"
      ],
      "id": "wRSCWW2UMLeP",
      "execution_count": null,
      "outputs": []
    },
    {
      "cell_type": "code",
      "source": [
        "sns.boxplot(train_ds['ApplicantIncome'])"
      ],
      "metadata": {
        "id": "2NWzgmg9ndQ6"
      },
      "id": "2NWzgmg9ndQ6",
      "execution_count": null,
      "outputs": []
    },
    {
      "cell_type": "markdown",
      "source": [
        "### CoApplicant Income"
      ],
      "metadata": {
        "id": "FI9o4ununQRn"
      },
      "id": "FI9o4ununQRn"
    },
    {
      "cell_type": "code",
      "source": [
        "sns.displot(train_ds['CoapplicantIncome'])"
      ],
      "metadata": {
        "id": "EX2wyzqrnTLO"
      },
      "id": "EX2wyzqrnTLO",
      "execution_count": null,
      "outputs": []
    },
    {
      "cell_type": "markdown",
      "source": [
        "### Loan Amount"
      ],
      "metadata": {
        "id": "9dM741u9ZzGj"
      },
      "id": "9dM741u9ZzGj"
    },
    {
      "cell_type": "code",
      "source": [
        "sns.displot(train_ds['LoanAmount'])"
      ],
      "metadata": {
        "id": "bJmmpOacZ6-Q"
      },
      "id": "bJmmpOacZ6-Q",
      "execution_count": null,
      "outputs": []
    },
    {
      "cell_type": "markdown",
      "source": [
        "## Correlation matrix with heatmap"
      ],
      "metadata": {
        "id": "vQrxE3SaqrRU"
      },
      "id": "vQrxE3SaqrRU"
    },
    {
      "cell_type": "code",
      "source": [
        "matrix = train_ds.corr()\n",
        "matrix\n",
        "f, ax = plt.subplots(figsize=(9,6))\n",
        "sns.heatmap(matrix, vmax=.75, square=True, cmap=\"BuPu\", annot=True)"
      ],
      "metadata": {
        "id": "W90t4W7_q40y"
      },
      "id": "W90t4W7_q40y",
      "execution_count": null,
      "outputs": []
    },
    {
      "cell_type": "markdown",
      "source": [
        "## Change dependents 3+ to 3 and Loan status to 0 and 1"
      ],
      "metadata": {
        "id": "BfLAo8TBcbiI"
      },
      "id": "BfLAo8TBcbiI"
    },
    {
      "cell_type": "code",
      "source": [
        "train_ds['Dependents'].replace('3+', 3, inplace=True)\n",
        "train_ds['Loan_Status'].replace('N', 0, inplace=True)\n",
        "train_ds['Loan_Status'].replace('Y', 1, inplace=True)\n",
        "test_ds['Dependents'].replace('3+', 3, inplace=True)"
      ],
      "metadata": {
        "id": "CBW8yVw6cl8B"
      },
      "id": "CBW8yVw6cl8B",
      "execution_count": null,
      "outputs": []
    },
    {
      "cell_type": "markdown",
      "metadata": {
        "id": "MUphrCu4DVaB"
      },
      "source": [
        "## **NaN Handling Method 1:**Getting Methods to Replace 'NaN' values in Dataset"
      ],
      "id": "MUphrCu4DVaB"
    },
    {
      "cell_type": "code",
      "source": [
        "# Drop rows with NaN values\n",
        "train_ds = train_ds.dropna()\n",
        "test_ds = test_ds.dropna()"
      ],
      "metadata": {
        "id": "AIOn2nHj9cXw"
      },
      "id": "AIOn2nHj9cXw",
      "execution_count": null,
      "outputs": []
    },
    {
      "cell_type": "markdown",
      "source": [
        "### Check to see if any NaN values exist"
      ],
      "metadata": {
        "id": "VBAJQjn4V35v"
      },
      "id": "VBAJQjn4V35v"
    },
    {
      "cell_type": "code",
      "source": [
        "print(train_ds.isnull().sum())"
      ],
      "metadata": {
        "id": "5olUOPFcV_kc"
      },
      "id": "5olUOPFcV_kc",
      "execution_count": null,
      "outputs": []
    },
    {
      "cell_type": "code",
      "source": [
        "print(test_ds.isnull().sum())"
      ],
      "metadata": {
        "id": "7deeOj9cgFsx"
      },
      "id": "7deeOj9cgFsx",
      "execution_count": null,
      "outputs": []
    },
    {
      "cell_type": "markdown",
      "source": [
        "### Replacing LoanAmount NaN using averaging"
      ],
      "metadata": {
        "id": "-LRX3U9vjHUX"
      },
      "id": "-LRX3U9vjHUX"
    },
    {
      "cell_type": "code",
      "metadata": {
        "id": "4792d925"
      },
      "source": [
        "median_loanamount = math.floor(train_ds.LoanAmount.median())\n",
        "median_loanamount"
      ],
      "id": "4792d925",
      "execution_count": null,
      "outputs": []
    },
    {
      "cell_type": "code",
      "source": [
        "train_ds.LoanAmount = train_ds.LoanAmount.fillna(median_loanamount)\n",
        "test_ds.LoanAmount = test_ds.LoanAmount.fillna(median_loanamount)"
      ],
      "metadata": {
        "id": "wRvswGIUh1hl"
      },
      "id": "wRvswGIUh1hl",
      "execution_count": null,
      "outputs": []
    },
    {
      "cell_type": "markdown",
      "source": [
        "### Replacing Gender NaN Values using averaging"
      ],
      "metadata": {
        "id": "WJt5QsmrXM-A"
      },
      "id": "WJt5QsmrXM-A"
    },
    {
      "cell_type": "code",
      "source": [
        "mode_gender = mode(train_ds.Gender)\n",
        "mode_gender"
      ],
      "metadata": {
        "id": "Mxj9hGWuXQgx"
      },
      "id": "Mxj9hGWuXQgx",
      "execution_count": null,
      "outputs": []
    },
    {
      "cell_type": "code",
      "source": [
        "train_ds.Gender = train_ds.Gender.fillna(mode_gender)\n",
        "test_ds.Gender = test_ds.Gender.fillna(mode_gender)"
      ],
      "metadata": {
        "id": "K52lmVqeYrIa"
      },
      "id": "K52lmVqeYrIa",
      "execution_count": null,
      "outputs": []
    },
    {
      "cell_type": "markdown",
      "source": [
        "### Replacing Marriage Status NaN values using averaging"
      ],
      "metadata": {
        "id": "fwDKu3XgZRmM"
      },
      "id": "fwDKu3XgZRmM"
    },
    {
      "cell_type": "code",
      "source": [
        "mode_married = mode(train_ds.Married)\n",
        "mode_married"
      ],
      "metadata": {
        "id": "TM8GvFB7ZyxV"
      },
      "id": "TM8GvFB7ZyxV",
      "execution_count": null,
      "outputs": []
    },
    {
      "cell_type": "code",
      "source": [
        "train_ds.Married = train_ds.Married.fillna(mode_married)\n",
        "test_ds.Married = test_ds.Married.fillna(mode_married)"
      ],
      "metadata": {
        "id": "EScknlbNZ6nv"
      },
      "id": "EScknlbNZ6nv",
      "execution_count": null,
      "outputs": []
    },
    {
      "cell_type": "markdown",
      "source": [
        "### Replacing Dependents NaN values using averaging"
      ],
      "metadata": {
        "id": "bpNr3NPeaD4u"
      },
      "id": "bpNr3NPeaD4u"
    },
    {
      "cell_type": "code",
      "source": [
        "mode_dependents = mode(train_ds.Dependents)\n",
        "mode_dependents"
      ],
      "metadata": {
        "id": "Im17Oc_kaPXA"
      },
      "id": "Im17Oc_kaPXA",
      "execution_count": null,
      "outputs": []
    },
    {
      "cell_type": "code",
      "source": [
        "train_ds.Dependents = train_ds.Dependents.fillna(mode_dependents)\n",
        "test_ds.Dependents = test_ds.Dependents.fillna(mode_dependents)"
      ],
      "metadata": {
        "id": "u5xPytrjbjqy"
      },
      "id": "u5xPytrjbjqy",
      "execution_count": null,
      "outputs": []
    },
    {
      "cell_type": "markdown",
      "source": [
        "### Replacing Self-Employed NaN values using averaging"
      ],
      "metadata": {
        "id": "3Cboan9wbvT_"
      },
      "id": "3Cboan9wbvT_"
    },
    {
      "cell_type": "code",
      "source": [
        "mode_self_employed = mode(train_ds.Self_Employed)\n",
        "mode_self_employed"
      ],
      "metadata": {
        "id": "0tIMNcXzcumr"
      },
      "id": "0tIMNcXzcumr",
      "execution_count": null,
      "outputs": []
    },
    {
      "cell_type": "code",
      "source": [
        "train_ds.Self_Employed = train_ds.Self_Employed.fillna(mode_self_employed)\n",
        "test_ds.Self_Employed = test_ds.Self_Employed.fillna(mode_self_employed)"
      ],
      "metadata": {
        "id": "wSRjggD8dJVz"
      },
      "id": "wSRjggD8dJVz",
      "execution_count": null,
      "outputs": []
    },
    {
      "cell_type": "markdown",
      "source": [
        "### Replacing Loan Amount Term NaN values using averaging"
      ],
      "metadata": {
        "id": "Rqc0iRIfdVqn"
      },
      "id": "Rqc0iRIfdVqn"
    },
    {
      "cell_type": "code",
      "source": [
        "mode_loan_amount_term = math.trunc(mode(train_ds.Loan_Amount_Term))\n",
        "mode_loan_amount_term"
      ],
      "metadata": {
        "id": "RdiBXTvodrwo"
      },
      "id": "RdiBXTvodrwo",
      "execution_count": null,
      "outputs": []
    },
    {
      "cell_type": "code",
      "source": [
        "train_ds.Loan_Amount_Term = train_ds.Loan_Amount_Term.fillna(mode_loan_amount_term)\n",
        "test_ds.Loan_Amount_Term = test_ds.Loan_Amount_Term.fillna(mode_loan_amount_term)"
      ],
      "metadata": {
        "id": "o9VQ5VfLd3-M"
      },
      "id": "o9VQ5VfLd3-M",
      "execution_count": null,
      "outputs": []
    },
    {
      "cell_type": "markdown",
      "source": [
        "### Replacing Credit History NaN values using averaging"
      ],
      "metadata": {
        "id": "xrGE24iNeRMF"
      },
      "id": "xrGE24iNeRMF"
    },
    {
      "cell_type": "code",
      "source": [
        "mode_credit_history = math.trunc(mode(train_ds.Credit_History))\n",
        "mode_credit_history"
      ],
      "metadata": {
        "id": "2Jarjp-ueWsl"
      },
      "id": "2Jarjp-ueWsl",
      "execution_count": null,
      "outputs": []
    },
    {
      "cell_type": "code",
      "source": [
        "train_ds.Credit_History = train_ds.Credit_History.fillna(mode_credit_history)\n",
        "test_ds.Credit_History = test_ds.Credit_History.fillna(mode_credit_history)"
      ],
      "metadata": {
        "id": "N1T7o2D2em-x"
      },
      "id": "N1T7o2D2em-x",
      "execution_count": null,
      "outputs": []
    },
    {
      "cell_type": "markdown",
      "source": [
        "### Changing datatypes for variable to match train set"
      ],
      "metadata": {
        "id": "VTyxFIv1hMml"
      },
      "id": "VTyxFIv1hMml"
    },
    {
      "cell_type": "code",
      "source": [
        "test_ds.Dependents = test_ds.Dependents.astype(int)\n",
        "test_ds = test_ds.astype({'Dependents' : 'object'})\n",
        "test_ds = test_ds.astype({'CoapplicantIncome' : 'float64'})"
      ],
      "metadata": {
        "id": "u_ReNncnhSuc"
      },
      "id": "u_ReNncnhSuc",
      "execution_count": null,
      "outputs": []
    },
    {
      "cell_type": "markdown",
      "source": [
        "## Outlier Treatment"
      ],
      "metadata": {
        "id": "yjpxrUmllgtc"
      },
      "id": "yjpxrUmllgtc"
    },
    {
      "cell_type": "markdown",
      "source": [
        "### Applicant Income"
      ],
      "metadata": {
        "id": "iO4HGXDsn2j4"
      },
      "id": "iO4HGXDsn2j4"
    },
    {
      "cell_type": "code",
      "source": [
        "train_ds['ApplicantIncome'] = np.log(train_ds['ApplicantIncome'])\n",
        "test_ds['ApplicantIncome'] = np.log(test_ds['ApplicantIncome'])"
      ],
      "metadata": {
        "id": "xWy-GAVnljTc"
      },
      "id": "xWy-GAVnljTc",
      "execution_count": null,
      "outputs": []
    },
    {
      "cell_type": "code",
      "source": [
        "train_ds['ApplicantIncome'].replace([np.inf, -np.inf], 0, inplace=True)\n",
        "test_ds['ApplicantIncome'].replace([np.inf, -np.inf], 0, inplace=True)"
      ],
      "metadata": {
        "id": "pubvtdsMy1j8"
      },
      "id": "pubvtdsMy1j8",
      "execution_count": null,
      "outputs": []
    },
    {
      "cell_type": "code",
      "source": [
        "sns.displot(train_ds['ApplicantIncome'])"
      ],
      "metadata": {
        "id": "GN4JNXeapyvl"
      },
      "id": "GN4JNXeapyvl",
      "execution_count": null,
      "outputs": []
    },
    {
      "cell_type": "markdown",
      "source": [
        "### Loan Amount"
      ],
      "metadata": {
        "id": "Pl327ueSoifl"
      },
      "id": "Pl327ueSoifl"
    },
    {
      "cell_type": "code",
      "source": [
        "train_ds['LoanAmount'] = np.log(train_ds['LoanAmount'])\n",
        "test_ds['LoanAmount'] = np.log(test_ds['LoanAmount'])"
      ],
      "metadata": {
        "id": "1tM8dDilolK1"
      },
      "id": "1tM8dDilolK1",
      "execution_count": null,
      "outputs": []
    },
    {
      "cell_type": "code",
      "source": [
        "sns.displot(train_ds['LoanAmount'])"
      ],
      "metadata": {
        "id": "5BDasFtCpfjP"
      },
      "id": "5BDasFtCpfjP",
      "execution_count": null,
      "outputs": []
    },
    {
      "cell_type": "markdown",
      "source": [
        "## Model Building"
      ],
      "metadata": {
        "id": "6NoKB0WjrvUi"
      },
      "id": "6NoKB0WjrvUi"
    },
    {
      "cell_type": "markdown",
      "source": [
        "### Drop Loan_ID from dataset as his has no effect on target variable"
      ],
      "metadata": {
        "id": "pxdmP80dsNNZ"
      },
      "id": "pxdmP80dsNNZ"
    },
    {
      "cell_type": "code",
      "source": [
        "train_ds = train_ds.drop('Loan_ID', axis=1)\n",
        "test_ds = test_ds.drop('Loan_ID', axis=1)"
      ],
      "metadata": {
        "id": "r8AsqKr5sppf"
      },
      "id": "r8AsqKr5sppf",
      "execution_count": null,
      "outputs": []
    },
    {
      "cell_type": "markdown",
      "source": [
        "### Need target variable in separate dataset"
      ],
      "metadata": {
        "id": "KnrsmLX5uH1m"
      },
      "id": "KnrsmLX5uH1m"
    },
    {
      "cell_type": "code",
      "source": [
        "X = train_ds.drop('Loan_Status', 1)"
      ],
      "metadata": {
        "id": "1qyjPl60uRwc"
      },
      "id": "1qyjPl60uRwc",
      "execution_count": null,
      "outputs": []
    },
    {
      "cell_type": "code",
      "source": [
        "y = train_ds.Loan_Status"
      ],
      "metadata": {
        "id": "nCpg6WgDusKG"
      },
      "id": "nCpg6WgDusKG",
      "execution_count": null,
      "outputs": []
    },
    {
      "cell_type": "markdown",
      "source": [
        "### Dummy Variables for Categorical Values"
      ],
      "metadata": {
        "id": "cEG0NRV2TJJ6"
      },
      "id": "cEG0NRV2TJJ6"
    },
    {
      "cell_type": "code",
      "source": [
        "X = pd.get_dummies(X)\n",
        "train_ds = pd.get_dummies(train_ds)\n",
        "test_ds = pd.get_dummies(test_ds)"
      ],
      "metadata": {
        "id": "BBw57IfBTPST"
      },
      "id": "BBw57IfBTPST",
      "execution_count": null,
      "outputs": []
    },
    {
      "cell_type": "markdown",
      "source": [
        "### Train-Test Split"
      ],
      "metadata": {
        "id": "YUnEJ2FpdIZv"
      },
      "id": "YUnEJ2FpdIZv"
    },
    {
      "cell_type": "code",
      "source": [
        "x_train, x_cv, y_train, y_cv = train_test_split(X, y, test_size=0.3)"
      ],
      "metadata": {
        "id": "7e7UhZG7dLo-"
      },
      "id": "7e7UhZG7dLo-",
      "execution_count": null,
      "outputs": []
    },
    {
      "cell_type": "markdown",
      "source": [
        "## Use Logistic Regression and Fit the Model"
      ],
      "metadata": {
        "id": "t3i9iGxKdgVz"
      },
      "id": "t3i9iGxKdgVz"
    },
    {
      "cell_type": "code",
      "source": [
        "model = LogisticRegression()\n",
        "model.fit(x_train, y_train)\n",
        "LogisticRegression()"
      ],
      "metadata": {
        "id": "SlEO6gRZdmK_"
      },
      "id": "SlEO6gRZdmK_",
      "execution_count": null,
      "outputs": []
    },
    {
      "cell_type": "markdown",
      "source": [
        "### Test on validation"
      ],
      "metadata": {
        "id": "p1QAAwTjeD3m"
      },
      "id": "p1QAAwTjeD3m"
    },
    {
      "cell_type": "code",
      "source": [
        "pred_cv = model.predict(x_cv)\n",
        "accuracy_score(y_cv, pred_cv)"
      ],
      "metadata": {
        "id": "AfYp3NiBeGB4"
      },
      "id": "AfYp3NiBeGB4",
      "execution_count": null,
      "outputs": []
    },
    {
      "cell_type": "markdown",
      "source": [
        "### Make sure features in test align with features used to fit the model"
      ],
      "metadata": {
        "id": "EUKOaVkUig9B"
      },
      "id": "EUKOaVkUig9B"
    },
    {
      "cell_type": "code",
      "source": [
        "list(test_ds[X.columns].columns)"
      ],
      "metadata": {
        "id": "XwGULzJLcaU1"
      },
      "id": "XwGULzJLcaU1",
      "execution_count": null,
      "outputs": []
    },
    {
      "cell_type": "code",
      "source": [
        "test_ds = test_ds[X.columns]"
      ],
      "metadata": {
        "id": "ej5hBJI4c-sW"
      },
      "id": "ej5hBJI4c-sW",
      "execution_count": null,
      "outputs": []
    },
    {
      "cell_type": "markdown",
      "source": [
        "### Test on test data"
      ],
      "metadata": {
        "id": "PYNILj1QjibN"
      },
      "id": "PYNILj1QjibN"
    },
    {
      "cell_type": "code",
      "source": [
        "pred_test = model.predict(test_ds)"
      ],
      "metadata": {
        "id": "yyRDfoy7vJGc"
      },
      "id": "yyRDfoy7vJGc",
      "execution_count": null,
      "outputs": []
    },
    {
      "cell_type": "markdown",
      "source": [
        "### Prepare submission format needed for hackathon"
      ],
      "metadata": {
        "id": "-clw0inLjnv1"
      },
      "id": "-clw0inLjnv1"
    },
    {
      "cell_type": "code",
      "source": [
        "submission.head()"
      ],
      "metadata": {
        "id": "FA-NtP62fM3T"
      },
      "id": "FA-NtP62fM3T",
      "execution_count": null,
      "outputs": []
    },
    {
      "cell_type": "code",
      "source": [
        "submission['Loan_Status'] = pred_test\n",
        "submission['Loan_ID'] = test_ds_original['Loan_ID']"
      ],
      "metadata": {
        "id": "tnMwcOWyfR2z"
      },
      "id": "tnMwcOWyfR2z",
      "execution_count": null,
      "outputs": []
    },
    {
      "cell_type": "code",
      "source": [
        "submission['Loan_Status'].replace(0, 'N', inplace=True)\n",
        "submission['Loan_Status'].replace(1, 'Y', inplace=True)"
      ],
      "metadata": {
        "id": "vNDPiz63QmN1"
      },
      "id": "vNDPiz63QmN1",
      "execution_count": null,
      "outputs": []
    },
    {
      "cell_type": "code",
      "source": [
        "pd.DataFrame(submission, columns=['Loan_ID', 'Loan_Status']).to_csv('logistic.csv', index=False)"
      ],
      "metadata": {
        "id": "smdJPW5tRGgJ"
      },
      "id": "smdJPW5tRGgJ",
      "execution_count": null,
      "outputs": []
    },
    {
      "cell_type": "markdown",
      "source": [
        "#### Submission 1: 76.38% test accuracy on Analytics Vidhya Loan Prediction Hackathon. **Did NOT include outlier treatment.**"
      ],
      "metadata": {
        "id": "RnigkvqpTvZi"
      },
      "id": "RnigkvqpTvZi"
    },
    {
      "cell_type": "markdown",
      "source": [
        "#### Submission 2: 78.47% test accuracy on Analytics Vidhya Hackathon. Adding log strategy for handling outliers."
      ],
      "metadata": {
        "id": "euZtVfbI0_pA"
      },
      "id": "euZtVfbI0_pA"
    },
    {
      "cell_type": "markdown",
      "source": [
        "## Feature Engineering strat #1: Combine Applicant and Coapplicant incomes"
      ],
      "metadata": {
        "id": "kU55_plMsj8X"
      },
      "id": "kU55_plMsj8X"
    },
    {
      "cell_type": "code",
      "source": [
        "train_ds['TotalIncome'] = train_ds['ApplicantIncome'] + train_ds['CoapplicantIncome']\n",
        "test_ds['TotalIncome'] = test_ds['ApplicantIncome'] + test_ds['CoapplicantIncome']"
      ],
      "metadata": {
        "id": "ElhUivFysr2M"
      },
      "id": "ElhUivFysr2M",
      "execution_count": null,
      "outputs": []
    },
    {
      "cell_type": "code",
      "source": [
        "train_ds.head(15)"
      ],
      "metadata": {
        "id": "ZybUuXiytAHd"
      },
      "id": "ZybUuXiytAHd",
      "execution_count": null,
      "outputs": []
    },
    {
      "cell_type": "code",
      "source": [
        "test_ds.head(10)"
      ],
      "metadata": {
        "id": "hUb_R0Hdxt-T"
      },
      "id": "hUb_R0Hdxt-T",
      "execution_count": null,
      "outputs": []
    },
    {
      "cell_type": "code",
      "source": [
        "train_ds['TotalIncome'] = np.log(train_ds['TotalIncome'])\n",
        "test_ds['TotalIncome'] = np.log(test_ds['TotalIncome'])"
      ],
      "metadata": {
        "id": "M28phH9WutYy"
      },
      "id": "M28phH9WutYy",
      "execution_count": null,
      "outputs": []
    },
    {
      "cell_type": "code",
      "source": [
        "sns.displot(data=train_ds['TotalIncome'])"
      ],
      "metadata": {
        "id": "vduc2wy1ukMC"
      },
      "id": "vduc2wy1ukMC",
      "execution_count": null,
      "outputs": []
    },
    {
      "cell_type": "code",
      "source": [
        "sns.displot(data=test_ds['TotalIncome'])"
      ],
      "metadata": {
        "id": "Hab-PDD9w1KO"
      },
      "id": "Hab-PDD9w1KO",
      "execution_count": null,
      "outputs": []
    },
    {
      "cell_type": "code",
      "source": [
        "train_ds = train_ds.drop(['ApplicantIncome', 'CoapplicantIncome'], axis=1)\n",
        "test_ds = test_ds.drop(['ApplicantIncome', 'CoapplicantIncome'], axis=1)"
      ],
      "metadata": {
        "id": "qP_Ds4eivd8r"
      },
      "id": "qP_Ds4eivd8r",
      "execution_count": null,
      "outputs": []
    }
  ]
}